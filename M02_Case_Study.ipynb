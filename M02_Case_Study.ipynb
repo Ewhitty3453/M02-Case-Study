{
 "cells": [
  {
   "cell_type": "code",
   "execution_count": null,
   "id": "18b22f16",
   "metadata": {},
   "outputs": [
    {
     "name": "stdout",
     "output_type": "stream",
     "text": [
      "Enter student's last name (Enter 'ZZZ' to quit): Johnson\n",
      "Enter student's first name: Jeremiah\n",
      "Enter student's GPA: 2.33\n",
      "Jeremiah Johnson does not qualify for Dean's List or Honor Roll.\n",
      "Enter student's last name (Enter 'ZZZ' to quit): Griffin\n",
      "Enter student's first name: Peter\n",
      "Enter student's GPA: 1.21\n",
      "Peter Griffin does not qualify for Dean's List or Honor Roll.\n",
      "Enter student's last name (Enter 'ZZZ' to quit): Sanchez\n",
      "Enter student's first name: Jeremiah\n",
      "Enter student's GPA: 3.44\n",
      "Jeremiah Sanchez has made the Honor Roll.\n",
      "Enter student's last name (Enter 'ZZZ' to quit): D. Luffy\n",
      "Enter student's first name: Monkey\n",
      "Enter student's GPA: 1.00\n",
      "Monkey D. Luffy does not qualify for Dean's List or Honor Roll.\n",
      "Enter student's last name (Enter 'ZZZ' to quit): Midoriya\n",
      "Enter student's first name: Izuku\n",
      "Enter student's GPA: 3.25\n",
      "Izuku Midoriya has made the Honor Roll.\n"
     ]
    }
   ],
   "source": [
    "# Elijah Whittle\n",
    "# M02_Case_Study.py\n",
    "# Description: This app accepts student names and GPAs, and tests if the student qualifies for the Dean's List or Honor Roll.\n",
    "# The app quits processing student records if the last name entered is 'ZZZ'.\n",
    "\n",
    "def main():\n",
    "    while True:\n",
    "        last_name = input(\"Enter student's last name (Enter 'ZZZ' to quit): \")\n",
    "        \n",
    "        if last_name == 'ZZZ':\n",
    "            print(\"Exiting the program.\")\n",
    "            break\n",
    "        \n",
    "        first_name = input(\"Enter student's first name: \")\n",
    "        gpa = float(input(\"Enter student's GPA: \"))\n",
    "\n",
    "        if gpa >= 3.5:\n",
    "            print(f\"{first_name} {last_name} has made the Dean's List.\")\n",
    "        elif gpa >= 3.25:\n",
    "            print(f\"{first_name} {last_name} has made the Honor Roll.\")\n",
    "        else:\n",
    "            print(f\"{first_name} {last_name} does not qualify for Dean's List or Honor Roll.\")\n",
    "\n",
    "if __name__ == \"__main__\":\n",
    "    main()\n"
   ]
  },
  {
   "cell_type": "code",
   "execution_count": null,
   "id": "9e935394",
   "metadata": {},
   "outputs": [],
   "source": []
  }
 ],
 "metadata": {
  "kernelspec": {
   "display_name": "Python 3 (ipykernel)",
   "language": "python",
   "name": "python3"
  },
  "language_info": {
   "codemirror_mode": {
    "name": "ipython",
    "version": 3
   },
   "file_extension": ".py",
   "mimetype": "text/x-python",
   "name": "python",
   "nbconvert_exporter": "python",
   "pygments_lexer": "ipython3",
   "version": "3.11.5"
  }
 },
 "nbformat": 4,
 "nbformat_minor": 5
}
